{
 "cells": [
  {
   "cell_type": "markdown",
   "id": "a77d13db-0793-4f42-abf1-30e611bbd42d",
   "metadata": {},
   "source": [
    "# Recommendation Systems\n",
    "\n",
    "_Partially retrieved from: https://towardsdatascience.com/recommender-systems-a-complete-guide-to-machine-learning-models-96d3f94ea748 and https://medium.com/@khang.pham.exxact/what-are-recommendation-systems-6bb5036042db_\n",
    "\n",
    "A recommendation system is a type of machine learning system that provides personalized recommendations to users based on their past behaviors, preferences, and patterns. It is a subclass of information filtering systems that use algorithms to recommend items to users based on their interests or behaviors.\n",
    "\n",
    "![](https://miro.medium.com/v2/resize:fit:579/1*ucu0szwMVPwJsBjtXkfFuw.png)\n",
    "\n",
    "Recommendation systems are widely used in e-commerce, social media, entertainment, and other online platforms to increase user engagement and retention, improve customer satisfaction, and drive sales and revenue."
   ]
  },
  {
   "cell_type": "markdown",
   "id": "b4564b93-ef6f-4f41-886b-4600a2f081dc",
   "metadata": {},
   "source": [
    "## How To Work Recommendation System?\n",
    "\n",
    "here are the four steps of how recommendation systems work:\n",
    "\n",
    "1.  **Collecting user data:** The first step in building a recommendation system is to collect user data. This can include user ratings, reviews, clickstream data, purchase history, and other behavioral data. The data can be collected either explicitly, through user surveys or feedback forms, or implicitly, through user interactions with the platform.\n",
    "2.  **Storing the data:** Once the user data is collected, it needs to be stored in a database or data warehouse for analysis. The data can be stored in a structured or unstructured format, depending on the type and volume of the data.\n",
    "3.  **Analyzing the data:** The next step is to analyze the user data to identify patterns and trends. This can be done using various data analysis techniques like clustering, classification, and regression. The goal is to understand the user’s preferences, behaviors, and interests, and to use this information to make personalized recommendations.\n",
    "4.  **Filtering and recommending:** The final step is to filter the data and make recommendations to the user. This can be done using various recommendation algorithms, such as collaborative, content-based, and hybrid filtering. The algorithm uses the user data and the analysis results to generate a list of recommended items the user will likely be interested in. The recommendations are then presented to the user in a personalized way, such as through a recommendation widget, email, or push notification.\n",
    "\n",
    "These four steps are the basic components of most recommendation systems, and the specific implementation details may vary depending on the type of system and the application domain."
   ]
  },
  {
   "cell_type": "markdown",
   "id": "df9726b3-63c7-4496-bf54-45f806620b15",
   "metadata": {},
   "source": [
    "## Explicit Feedback vs. Implicit Feedback\n",
    "\n",
    "In recommender systems, machine learning models are used to predict the **rating $r_{ui}$ of a user $u$ on an item $i$**. At inference time, we recommend to each user $u$ the items $l$ having highest predicted rating $r_{ui}$.\n",
    "\n",
    "We therefore need to collect user feedback, so that we can have a ground truth for training and evaluating our models. An important distinction has to be made here between **explicit feedback** and **implicit feedback**.\n",
    "\n",
    "![](https://miro.medium.com/v2/resize:fit:770/1*yPeDvQjUoFdLKb9CkxaFPA.png)\n",
    "\n",
    "[**Explicit feedback**](https://en.wikipedia.org/wiki/Rating_scale#Rating_scales_used_online) is a rating explicitly given by the user to express their satisfaction with an item. Examples are: number of stars on a scale from $1$ to $5$ given after buying a product, thumb up/down given after watching a video, etc. This feedback provides **detailed information** on how much a user liked an item, but it is **hard to collect** as most users typically don’t write reviews or give explicit ratings for each item they purchase.\n",
    "\n",
    "[**Implicit feedback**](https://en.wikipedia.org/wiki/Implicit_data_collection), on the other hand, assume that user-item interactions are an indication of preferences. Examples are: purchases/browsing history of a user, list of songs played by a user, etc. This feedback is **extremely abundant**, but at the same time it is **less detailed** and **more noisy** (e.g. someone may buy a product as a present for someone else). However, this noise becomes negligible when compared to the sheer size of available data of this kind, and **most modern Recommender Systems tend to rely on implicit feedback**.\n",
    "\n",
    "![](https://miro.medium.com/v2/resize:fit:770/1*k4UGbxNRZwyqnFCl3lxXcA.png)\n",
    "\n",
    "Once we have collected explicit or implicit feedbacks, we can create the **user-item rating matrix $r_{ui}$**. \n",
    "\n",
    "For **explicit feedback**, each entry in $r_{ui}$ is a numerical value, e.g. $r_{ui} =$ stars given by $u$ to movie $i$ or $?$ if user $u$_did not rate item $i$. \n",
    "\n",
    "For **implicit feedback**, the values in $r_{ui}$ are a boolean values representing presence or lack of interaction,e.g. $r_{ui} =$ \"did user $u$ watch movie $i$?\". Notice that the matrix $r_{ui}$ is very sparse, as users interact with few items among all available contents, and they review even fewer items!"
   ]
  },
  {
   "cell_type": "markdown",
   "id": "b70c6513-37d4-4954-9e3f-b7bf6bcbdf02",
   "metadata": {},
   "source": [
    "## Types of Recommendation Systems\n",
    "\n",
    "There are three main types of recommendation systems:\n",
    "\n",
    "* **Content-Based Filtering**\n",
    "* **Collaborative Filtering**\n",
    "* **Hybrid Recommendation Systems**"
   ]
  },
  {
   "cell_type": "markdown",
   "id": "b80300ce-cdfa-43bf-9891-3cd2e80f921e",
   "metadata": {},
   "source": [
    "### **→ Content-Based Filtering**\n",
    "\n",
    "[**Content-based methods**](https://en.wikipedia.org/wiki/Recommender_system#Content-based_filtering) describe **users and items by** **their known metadata**. Each item $i$ is represented by a set of relevant tags, e.g. movies of the [IMDb platform](https://www.imdb.com/search/keyword/) can be tagged as ``action``, ``comedy``, etc. Each user $u$ is represented by a user profile, which can created from known user information, e.g. ``sex`` and ``age`` or from the user's past activity. Content-based recommendation systems recommend items to users based on their past preferences and behaviors. This type of system analyzes the user's historical data, such as their search history, browsing history, or purchase history, and recommends items that are similar to the ones the user has interacted with before.\n",
    "\n",
    "Fig 1 | Fig 2\n",
    "- | - \n",
    "![alt](https://miro.medium.com/v2/resize:fit:497/1*EDPxf6VYYgK3sKD9bnqJFw.png) |![alt](https://miro.medium.com/v2/resize:fit:786/format:webp/0*eVqq1jhqMnAaJ2J_.jpg)\n",
    "\n",
    "For example, if a user has watched several action movies in the past, a content-based recommendation system might recommend similar action movies to the user. if a user likes to watch movies such as ``Iron Man``, the recommender system recommends movies of the superhero genre or films describing ``Tony Stark``."
   ]
  },
  {
   "cell_type": "markdown",
   "id": "63fa0ce2-be8b-463f-8289-81e679e2f6b1",
   "metadata": {},
   "source": [
    "### **→ Collaborative Filtering**\n",
    "\n",
    "[**Collaborative filtering methods**](https://en.wikipedia.org/wiki/Recommender_system#Collaborative_filtering) do not use item or user metadata, but try instead to **leverage the feedbacks or activity history of all users** in order to predict the rating of a user on a given item by inferring interdependencies between users and items from the observed activities. Collaborative filtering recommendation systems recommend items to users based on the preferences and behaviors of other similar users. This type of system analyzes the user’s historical data, as well as the data of other users with similar preferences, and recommends items that similar users have liked or interacted with before. For example, if two users have similar purchase histories, a collaborative filtering recommendation system might recommend items that one user has purchased to the other user.\n",
    "\n",
    "Fig 1 | Fig 2\n",
    "- | - \n",
    "![alt](https://miro.medium.com/v2/resize:fit:596/1*PZyMf8VoCkdL4OjphtH3Uw.png) |![alt](https://miro.medium.com/v2/resize:fit:786/format:webp/0*60JJipjp0QzBkKEV.jpg)\n",
    "\n",
    "For example, if user $A$ likes ``Apples``, ``Bananas``, and ``Mango`` while user $B$ likes ``Apples``, ``Bananas``, and ``Jackfruit``, they have similar interests. So, it is highly likely that $A$ would like ``Jackfruit`` and $B$ would enjoy ``Mango``. This is how collaborative filtering takes place.\n",
    "\n",
    "Two kinds of collaborative filtering techniques used are:\n",
    "\n",
    "- __User-User__ collaborative filtering\n",
    "- __Item-Item__ collaborative filtering"
   ]
  },
  {
   "cell_type": "markdown",
   "id": "fab84800-0202-41c3-a76d-15460be488ad",
   "metadata": {},
   "source": [
    "#### **User-User collaborative filtering** \n",
    "Type of recommendation system that makes predictions for a user based on the preferences of similar users. It works by finding users with similar tastes and recommending items they liked to the target user. \n",
    "\n",
    "#### **Item-Item collaborative filtering**\n",
    "This type, on the other hand, recommends items to a user based on the preferences for similar items. It works by identifying items that are similar to the ones a user has liked in the past and recommending them to the user."
   ]
  },
  {
   "cell_type": "markdown",
   "id": "01833cec-d77f-4ef6-8c27-8b11cfb9b0d8",
   "metadata": {},
   "source": [
    "#### **→ Hybrid Recommendation Systems**\n",
    "\n",
    "Hybrid recommendation systems combine both content-based and collaborative filtering techniques to provide more accurate and diverse recommendations. This type of system uses a combination of user data, item data, and other contextual information to generate recommendations.\n",
    "\n",
    "hybrid recommendation system might use content-based filtering to recommend items that are similar to the ones the user has interacted with before, and collaborative filtering to recommend items that other similar users have liked or interacted with. By combining the strengths of both approaches, hybrid recommendation systems can provide more accurate and diverse recommendations than either content-based or collaborative filtering alone.\n",
    "\n",
    "Fig 1 | Fig 2\n",
    "- | - \n",
    "![alt](https://miro.medium.com/v2/resize:fit:502/1*e8u7i03KttoAHb6yB6vO1Q.png) |![alt](https://miro.medium.com/v2/resize:fit:786/format:webp/0*lRi888vssyKrR2Ks.jpg)\n",
    "\n",
    "Netflix is an excellent case in point for a hybrid recommendation system. It makes recommendations by juxtaposing users’ watching and searching habits and finding similar users on that platform. This way, **Netflix uses collaborative filtering**.\n",
    "\n",
    "By recommending such shows/movies that share similar traits with those rated highly by the user, Netflix uses content-based filtering. They can also veto the common issues in recommendation systems, such as cold start and data insufficiency issues."
   ]
  },
  {
   "cell_type": "markdown",
   "id": "00d61d87-ddd5-44c0-a8ef-3209ff6dd233",
   "metadata": {},
   "source": [
    "### Example: How does the YouTube algorithm work?\n",
    "\n",
    "The YouTube recommendation algorithm is a complex system that uses a combination of collaborative filtering, deep learning, and other techniques to personalize video recommendations for each user.\n",
    "\n",
    "![](https://miro.medium.com/v2/resize:fit:671/1*t6Y4aGys2AppbPMDEogHJg.png)\n",
    "\n",
    "Here are some key factors that the algorithm takes into account:\n",
    "\n",
    "1.  **User engagement:** The algorithm considers the videos a user has watched, liked, commented on, or shared to understand their preferences and interests.\n",
    "2.  **Similarity:** The algorithm identifies videos that are similar to the user’s viewing history, such as videos from the same channel or related topics.\n",
    "3.  **Popularity:** The algorithm takes into account the overall popularity of a video, such as the number of views, likes, and comments.\n",
    "4.  **Freshness:** The algorithm also considers the recency of the video to ensure that users are recommended the latest and most relevant content.\n",
    "5.  **Diversity:** The algorithm tries to recommend a diverse range of content to ensure that users are exposed to new and interesting videos outside of their typical viewing habits.\n",
    "\n",
    "Overall, the YouTube algorithm is designed to provide personalized and engaging recommendations to each user while keeping them engaged and active on the platform."
   ]
  }
 ],
 "metadata": {
  "kernelspec": {
   "display_name": "Python 3 (ipykernel)",
   "language": "python",
   "name": "python3"
  },
  "language_info": {
   "codemirror_mode": {
    "name": "ipython",
    "version": 3
   },
   "file_extension": ".py",
   "mimetype": "text/x-python",
   "name": "python",
   "nbconvert_exporter": "python",
   "pygments_lexer": "ipython3",
   "version": "3.11.5"
  }
 },
 "nbformat": 4,
 "nbformat_minor": 5
}
