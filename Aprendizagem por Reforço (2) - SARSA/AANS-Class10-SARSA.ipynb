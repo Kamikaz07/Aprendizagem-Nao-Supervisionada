{
 "cells": [
  {
   "cell_type": "markdown",
   "id": "b93b8b3f-5eca-4522-bd32-04bb3c6734fc",
   "metadata": {},
   "source": [
    "# SARSA (State-Action-Reward-State-Action) Algorithm\n",
    "\n",
    "## What Is SARSA?\n",
    "__State-action-reward-state-action ($SARSA$)__ is an __on-policy__ algorithm designed to teach a machine learning model a new [Markov decision process](https://builtin.com/machine-learning/markov-decision-process) policy in order to solve reinforcement learning challenges. It’s an algorithm where, in the current state ($S$), an action ($A$) is taken and the agent gets a reward ($R$), and ends up in the next state ($S'$), and takes action ($A'$) in $S'$. Therefore, the tuple $(S, A, R, S', A')$ stands for the acronym $SARSA$.\n",
    "\n",
    "![](https://miro.medium.com/v2/resize:fit:700/1*lz0hcYpEfDxny8rKOYBRvg.png)\n",
    "\n",
    "### Steps in SARSA\n",
    "\n",
    "1.  **Initialize the Q-table**: Assign a value of $0$ to all entries.\n",
    "2.  **Choose an action**: Use an ``ε`` greedy strategy to balance exploration and exploitation.\n",
    "3.  **Take the action**: Observe the reward and the next state, then choose the next action using the current policy.\n",
    "4.  **Update the Q-table**: Use the $SARSA$ update rule to update the Q-values.\n",
    "5.  **Repeat**: Continue until the episode ends.\n",
    "\n",
    "![](https://www.researchgate.net/profile/Vladimir-Golovko-5/publication/266874960/figure/fig1/AS:295570439720968@1447480893013/One-iteration-of-Reinforcement-Learning-SARSA-algorithm-1-Where-learning-rate.png)\n",
    "\n",
    "SARSA involves the agent interacting with the environment and updating a Q-table that contains Q-values for all possible state-action pairs. The agent uses these Q-values to make decisions that balance exploration and exploitation, aiming to maximize its expected cumulative reward. The Q-value for a state-action pair (s, a) is updated using the SARSA rule, which incorporates the reward received and the Q-value of the next state-action pair.\n",
    "\n",
    "### Detailed Explanation of the Algorithm\n",
    "\n",
    "-   **Exploration-Exploitation Strategy**: The agent must balance exploration (trying new actions to discover their effects) and exploitation (choosing actions that are known to yield high rewards). The ε-greedy strategy is commonly used, where the agent chooses a random action with probability ε, and the best-known action with probability 1-ε.\n",
    "-   **Q-Table Initialization**: The Q-table is initialized with arbitrary values, often zeros. It has dimensions `[number of states, number of actions]`.\n",
    "-   **State and Action**: The agent starts in an initial state and chooses an action based on the current Q-values and the exploration-exploitation strategy.\n",
    "-   **Reward and Next State**: After taking an action, the agent receives a reward and observes the next state. It then chooses the next action based on the current policy.\n",
    "-   **Q-Value Update**: The Q-value for the state-action pair is updated using the SARSA rule, incorporating the observed reward and the Q-value of the next state-action pair.\n",
    "-   **Episode Termination**: The episode terminates when the agent reaches a terminal state (e.g., completing a task or reaching a goal).\n",
    "\n",
    "### SARSA Update Rule\n",
    "\n",
    "The SARSA update rule is given by:\n",
    "\n",
    "$$ Q(s_t, a_t) \\leftarrow Q(s_t, a_t) + \\alpha \\left( r_t + \\gamma Q(s_{t+1}, a_{t+1}) - Q(s_t, a_t) \\right) $$\n",
    "\n",
    "where:\n",
    "\n",
    "- $ Q(s_t, a_t) $: Current Q-value.\n",
    "- $ \\alpha $: Learning rate (0 < α ≤ 1). It determines how much new information overrides the old information.\n",
    "- $ r_t $: Reward received after taking action $ a $ from state $ s $.\n",
    "- $ \\gamma $: Discount factor (0 ≤ γ ≤ 1) which balances the importance of immediate and future rewards. A higher value of γ puts more emphasis on future rewards.\n",
    "- $ s_{t+1} $: Next state after taking action $ a_t $.\n",
    "- $ a_{t+1} $: Next action chosen based on the current policy.\n",
    "\n",
    "\n",
    "## On-Policy vs Off-Policy Learning\n",
    "#### On-Policy Learning\n",
    "On-policy learning algorithms, like SARSA, learn the value of the policy being followed by the agent. The updates are based on the actions taken by the agent using the current policy. The agent learns from the actions it actually takes.\n",
    "\n",
    "#### Off-Policy Learning\n",
    "Off-policy learning algorithms, like Q-learning, learn the value of the optimal policy, regardless of the actions taken by the agent. The updates are based on the maximum possible future reward, assuming the best possible action is taken. The agent learns from hypothetical optimal actions.\n",
    "\n",
    "## SARSA vs. Q-Learning\n",
    "\n",
    "The main difference between SARSA and Q-learning is that SARSA is an on-policy learning algorithm, while Q-learning is an off-policy learning algorithm. \n",
    "\n",
    "In reinforcement learning, two different policies are also used for active agents: a behavior policy and a target policy. A behavior policy is used to decide actions in a given state (what behavior the agent is currently using to interact with its environment), while a target policy is used to learn about desired actions and what rewards are received (the ideal policy the agent seeks to use to interact with its environment).\n",
    "\n",
    "If an algorithm’s behavior policy matches its target policy, this means it is an on-policy algorithm. If these policies in an algorithm don’t match, then it is an off-policy algorithm. \n",
    "\n",
    "SARSA operates by choosing an action following the current epsilon-greedy policy and updates its Q-values accordingly. On-policy algorithms like SARSA select random actions where non-greedy actions have some probability of being selected, providing a balance between exploitation and exploration techniques. Since SARSA Q-values are generally learned using the same epsilon-greedy policy for behavior and target, it classifies as on-policy.\n",
    "\n",
    "Q-learning, unlike SARSA, tends to choose the greedy action in sequence. A greedy action is one that gives the maximum Q-value for the state, that is, it follows an optimal policy. Off-policy algorithms like Q-learning learn a target policy regardless of what actions are selected from exploration. Since Q-learning uses greedy actions, and can evaluate one behavior policy while following a separate target policy, it classifies as off-policy.\n",
    "\n",
    "<img src=\"https://wikidocs.net/images/page/169313/22_SARSA_vs_Q_Learning.png\" width=800>\n",
    "\n",
    "#### Q-Learning (Off-Policy)\n",
    "\n",
    "-   **Update Rule**: Uses the maximum possible future reward for the next state.\n",
    "-   **Policy**: Off-policy, meaning the update is based on the optimal policy, not necessarily the current policy used to explore.\n",
    "\n",
    "#### SARSA (On-Policy)\n",
    "\n",
    "-   **Update Rule**: Uses the actual next action taken by the policy.\n",
    "-   **Policy**: On-policy, meaning the update is based on the current policy being followed by the agent.\n",
    "  \n",
    "<img src=\"https://miro.medium.com/v2/resize:fit:1400/1*IO3w_u0snQVvHE3k-t_yEw.png\" width=700>\n",
    "\n",
    "### An Example: Cliff World[](https://www.baeldung.com/cs/q-learning-vs-sarsa#1-an-example-cliff-world)\n",
    "\n",
    "We can highlight the effect of this seemingly small difference by using a simple grid-world-based problem; The Cliff World. **In a cliff world, the agent has to walk from the starting cell to the goal cell along the edge of a cliff; without falling off.**\n",
    "\n",
    "There is a ![-1](https://www.baeldung.com/wp-content/ql-cache/quicklatex.com-37abf2e602a43ae0ff9f12b1536fa74c_l3.svg \"Rendered by QuickLaTeX.com\") penalty for a step and a ![-100](https://www.baeldung.com/wp-content/ql-cache/quicklatex.com-a8453ae8f384cb6445bc89830c12a4da_l3.svg \"Rendered by QuickLaTeX.com\") penalty for stepping off the cliff. The shortest path is a straight line along the cliff edge. It is the shortest path but it is risky if the agents miss-step there is a large negative penalty.\n",
    "\n",
    "The cliff world is drawn from [Reinforcement Learning: An Introduction by Sutton and Barto](https://web.stanford.edu/class/psych209/Readings/SuttonBartoIPRLBook2ndEd.pdf \"Reinforcement Learning: An Introduction by Sutton and Barto\"); a seminal text of the field:\n",
    "\n",
    "![Rendered by QuickLaTeX.com](https://www.baeldung.com/wp-content/ql-cache/quicklatex.com-dc826669b6e285029de33ecf9ad6fbc0_l3.svg \"Rendered by QuickLaTeX.com\")\n",
    "\n",
    "While we know the shortest path, our Q-learning and SARSA agents will disagree over if it is the best or not. Our, on-policy, SARSA agent views the cliff edge as riskier because it chooses and updates actions subject to its stochastic policy. **That means it has learned it has a high likelihood of stepping off the cliff and receiving a high negative reward.**\n",
    "\n",
    "Our Q-learning agent by contrast has learned its policy based on the optimal policy which always chooses the action with the highest Q-value. It is more confident in its ability to walk the cliff edge without falling off.\n",
    "\n",
    "In the Cliff Walking environment, this difference means:\n",
    "\n",
    "-   **SARSA**: Tends to be more conservative, avoiding the risky cliff edges because it updates based on the policy's chosen actions, which includes some exploration.\n",
    "-   **Q-Learning**: Can learn the optimal path directly along the cliff edge, since it updates based on the best possible action regardless of the current policy.\n"
   ]
  },
  {
   "cell_type": "markdown",
   "id": "292705a8-7573-4607-8aa5-3ba58b5bbbea",
   "metadata": {},
   "source": [
    "## Cliff World: Gym implementation"
   ]
  },
  {
   "cell_type": "markdown",
   "id": "e5f68cf9-9c85-4f2c-9d87-a3ef32a61bea",
   "metadata": {},
   "source": [
    "The Cliff Walking environment consists of a grid where the agent must navigate from the start to the goal without falling off the cliff.\n",
    "\n",
    "### Step 1: Import Libraries and Initialize the Environment\n",
    "\n",
    "First, we need to import the necessary libraries and create the Cliff Walking environment."
   ]
  },
  {
   "cell_type": "code",
   "execution_count": 1,
   "id": "8893dbcc-bc8e-48d0-8a5f-1309d1d4b702",
   "metadata": {},
   "outputs": [],
   "source": [
    "#!pip install gym\n",
    "#!pip install pygame\n",
    "import numpy as np\n",
    "import gym\n",
    "import random\n",
    "\n",
    "# Create Cliff Walking environment\n",
    "env = gym.make(\"CliffWalking-v0\")"
   ]
  },
  {
   "cell_type": "markdown",
   "id": "8e90c558-b5f8-42bd-a02f-910da0699c3e",
   "metadata": {},
   "source": [
    "### Step 2: Initialize the Q-Table\n",
    "\n",
    "Next, we initialize the Q-table with zeros. The Q-table has dimensions `[number of states, number of actions]`.\n",
    "\n",
    "-   `state_size`: The total number of possible states.\n",
    "-   `action_size`: The total number of possible actions.\n",
    "-   `q_table`: A table to store Q-values for each state-action pair, initialized to zero."
   ]
  },
  {
   "cell_type": "code",
   "execution_count": 2,
   "id": "cd6255e4-2d3a-4bad-9728-b1a38657b1f2",
   "metadata": {},
   "outputs": [
    {
     "name": "stdout",
     "output_type": "stream",
     "text": [
      "State space: 48\n",
      "Action space: 4\n"
     ]
    }
   ],
   "source": [
    "# Initialize Q-table\n",
    "state_size = env.observation_space.n  # Total number of states\n",
    "action_size = env.action_space.n      # Total number of actions\n",
    "q_table = np.zeros((state_size, action_size))\n",
    "print(\"State space:\", state_size)\n",
    "print(\"Action space:\", action_size) "
   ]
  },
  {
   "cell_type": "markdown",
   "id": "ab6c7ada-fa43-403d-a9e9-22375d078cf2",
   "metadata": {},
   "source": [
    "### Step 3: Define Hyperparameters\n",
    "\n",
    "We define the hyperparameters for the Q-learning algorithm.\n",
    "\n",
    "-   `learning_rate (α)`: Determines how much new information overrides old information.\n",
    "-   `discount_rate (γ)`: Balances the importance of immediate and future rewards.\n",
    "-   `epsilon`: The probability of choosing a random action (exploration).\n",
    "-   `decay_rate`: The rate at which `epsilon` decreases."
   ]
  },
  {
   "cell_type": "code",
   "execution_count": 3,
   "id": "cb463529-8e2f-4628-9880-99b92b569e65",
   "metadata": {},
   "outputs": [],
   "source": [
    "# Hyperparameters\n",
    "learning_rate = 0.1  # Alpha, learning rate\n",
    "discount_rate = 0.99  # Gamma, discount factor\n",
    "epsilon = 1.0       # Exploration rate\n",
    "decay_rate = 0.001    # Decay rate for epsilon"
   ]
  },
  {
   "cell_type": "markdown",
   "id": "db43a053-f543-4ecf-af28-7fb81bf430c1",
   "metadata": {},
   "source": [
    "### Step 4: Train the SARSA Agent\n",
    "\n",
    "We train the agent over a number of episodes. In each episode, the agent interacts with the environment and updates the Q-table based on its experiences.\n",
    "\n",
    "-   `env.reset()`: Resets the environment to the initial state at the beginning of each episode.\n",
    "-   `random.uniform(0, 1) < epsilon`: Determines whether to explore or exploit.\n",
    "-   `env.action_space.sample()`: Selects a random action (exploration).\n",
    "-   `np.argmax(q_table[state])`: Selects the action with the highest Q-value (exploitation).\n",
    "-   `env.step(action)`: Executes the action and returns the next state, reward, and done flag.\n",
    "-   `q_table[state, action]`: Updates the Q-value using the SARSA update rule"
   ]
  },
  {
   "cell_type": "code",
   "execution_count": 4,
   "id": "47a0c3df-fe83-4f37-b9a3-bc9ea2834893",
   "metadata": {},
   "outputs": [
    {
     "name": "stdout",
     "output_type": "stream",
     "text": [
      "Episode 1000: Total Reward: -32, Epsilon: 0.3682475046136629\n",
      "Training Complete! Q-table saved!\n"
     ]
    }
   ],
   "source": [
    "from IPython.display import clear_output\n",
    "import time\n",
    "import pickle as pkl\n",
    "\n",
    "# Training variables\n",
    "num_episodes = 1000  # Total number of episodes\n",
    "max_steps = 50      # Max steps per episode\n",
    "epsilon_decayed = 1.0\n",
    "\n",
    "# To store total rewards for each episode\n",
    "rewards = []\n",
    "\n",
    "# Policy function for epsilon-greedy action selection\n",
    "def policy(state, epsilon):\n",
    "    if random.uniform(0, 1) < epsilon:\n",
    "        return env.action_space.sample()  # Explore\n",
    "    else:\n",
    "        return np.argmax(q_table[state])  # Exploit\n",
    "\n",
    "# Training the SARSA agent\n",
    "for episode in range(num_episodes):\n",
    "    state, _ = env.reset()\n",
    "    action = policy(state, epsilon)\n",
    "    done = False\n",
    "    total_reward = 0\n",
    "\n",
    "    for _ in range(max_steps):\n",
    "        next_state, reward, done, truncated, _ = env.step(action)\n",
    "        next_action = policy(next_state, epsilon_decayed)\n",
    "        \n",
    "        # SARSA Update rule\n",
    "        q_table[state, action] += learning_rate * (reward + discount_rate * q_table[next_state, next_action] - q_table[state, action])\n",
    "        \n",
    "        state, action = next_state, next_action\n",
    "        total_reward += reward\n",
    "\n",
    "        # Render the environment\n",
    "        clear_output(wait=True)\n",
    "        # env.render()\n",
    "        # time.sleep(0.01)\n",
    "\n",
    "        if done or truncated:\n",
    "            break\n",
    "\n",
    "    rewards.append(total_reward)\n",
    "    epsilon_decayed = np.exp(-decay_rate * episode)\n",
    "    print(f\"Episode {episode + 1}: Total Reward: {total_reward}, Epsilon: {epsilon_decayed}\")\n",
    "\n",
    "env.close()\n",
    "\n",
    "# Save the Q-table\n",
    "pkl.dump(q_table, open(\"sarsa_q_table.pkl\", \"wb\"))\n",
    "print(\"Training Complete! Q-table saved!\")"
   ]
  },
  {
   "cell_type": "code",
   "execution_count": 5,
   "id": "10819ce9-cceb-415d-b94c-e33938135bbb",
   "metadata": {},
   "outputs": [
    {
     "data": {
      "image/png": "[encoded data removed]",
      "text/plain": [
       "<Figure size 640x480 with 1 Axes>"
      ]
     },
     "metadata": {},
     "output_type": "display_data"
    }
   ],
   "source": [
    "import matplotlib.pyplot as plt\n",
    "# Plotting rewards over time\n",
    "plt.plot(rewards)\n",
    "plt.xlabel('Episode')\n",
    "plt.ylabel('Total Reward')\n",
    "plt.title('Total Rewards over Episodes')\n",
    "plt.show()"
   ]
  },
  {
   "cell_type": "markdown",
   "id": "6bd7dee6-d318-4ae2-a9ba-3dfa64201b72",
   "metadata": {},
   "source": [
    "## Step 5: Visualize the Agent's Performance\n",
    "\n",
    "Finally, we visualize the agent's performance by rendering the environment.\n",
    "\n",
    "-   Renders the environment to visualize the agent's actions."
   ]
  },
  {
   "cell_type": "code",
   "execution_count": 6,
   "id": "12bc000b-770b-4c7c-94a8-f5c491d151bd",
   "metadata": {},
   "outputs": [
    {
     "name": "stdout",
     "output_type": "stream",
     "text": [
      "Step 17, Total Reward: -17\n"
     ]
    }
   ],
   "source": [
    "import pickle as pkl\n",
    "file = open('sarsa_q_table.pkl', 'rb')\n",
    "q_table = pkl.load(file)\n",
    "\n",
    "from IPython.display import clear_output\n",
    "from time import sleep\n",
    "\n",
    "# Watch the trained agent\n",
    "env = gym.make(\"CliffWalking-v0\", render_mode='human')\n",
    "state, info = env.reset()\n",
    "done = False\n",
    "rewards = 0\n",
    "\n",
    "for s in range(max_steps):\n",
    "    clear_output(wait=True)\n",
    "    env.render()  # Render the environment in the human mode\n",
    "    action = np.argmax(q_table[state])\n",
    "    next_state, reward, done, truncated, info = env.step(action)\n",
    "    rewards += reward\n",
    "    print(f\"Step {s+1}, Total Reward: {rewards}\")\n",
    "\n",
    "    state = next_state\n",
    "\n",
    "    if done or truncated:\n",
    "        break\n",
    "\n",
    "env.close()"
   ]
  }
 ],
 "metadata": {
  "kernelspec": {
   "display_name": "Python 3 (ipykernel)",
   "language": "python",
   "name": "python3"
  },
  "language_info": {
   "codemirror_mode": {
    "name": "ipython",
    "version": 3
   },
   "file_extension": ".py",
   "mimetype": "text/x-python",
   "name": "python",
   "nbconvert_exporter": "python",
   "pygments_lexer": "ipython3",
   "version": "3.11.5"
  }
 },
 "nbformat": 4,
 "nbformat_minor": 5
}
