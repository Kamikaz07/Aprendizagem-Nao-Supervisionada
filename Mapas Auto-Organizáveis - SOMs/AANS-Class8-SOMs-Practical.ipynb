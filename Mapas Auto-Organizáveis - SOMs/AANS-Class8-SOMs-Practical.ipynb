{
 "cells": [
  {
   "cell_type": "markdown",
   "id": "c7e59163-66c8-40e4-a852-9d301c2789f3",
   "metadata": {},
   "source": [
    "# Self-Organizing Maps (SOMs) - Practical Part"
   ]
  },
  {
   "cell_type": "markdown",
   "id": "a8e48800-42fd-43a8-b0b1-5485af0ffc5f",
   "metadata": {},
   "source": [
    "## Example 1 - Iris dataset"
   ]
  },
  {
   "cell_type": "markdown",
   "id": "02ac54aa-3f27-4760-b980-780a09a1d92a",
   "metadata": {},
   "source": [
    "Here is an example of using SOMs on the Iris dataset to classify different species based on their petal and sepal measurements."
   ]
  },
  {
   "cell_type": "code",
   "execution_count": null,
   "id": "f24ddaaa-596e-484c-88bf-1e22cf80ebf5",
   "metadata": {},
   "outputs": [],
   "source": [
    "from sklearn.datasets import load_iris\n",
    "from sklearn.preprocessing import MinMaxScaler\n",
    "\n",
    "import math\n",
    "import numpy as np\n",
    "\n",
    "import matplotlib.pyplot as plt"
   ]
  },
  {
   "cell_type": "markdown",
   "id": "be431e58-f54e-4018-bb1d-499f8da556e3",
   "metadata": {},
   "source": [
    "## Preparing the data"
   ]
  },
  {
   "cell_type": "code",
   "execution_count": null,
   "id": "097105de-1de2-4a9c-8c73-2a9cacd07337",
   "metadata": {},
   "outputs": [],
   "source": [
    "iris = load_iris()\n",
    "features = iris.data\n",
    "labels = iris.target\n",
    "labels"
   ]
  },
  {
   "cell_type": "markdown",
   "id": "bd4c64bd-9349-414b-b2d3-b84b2b7b7e84",
   "metadata": {},
   "source": [
    "## Normalizing the data"
   ]
  },
  {
   "cell_type": "code",
   "execution_count": null,
   "id": "b732dece-7c52-4bca-b105-0e0b97cb721c",
   "metadata": {},
   "outputs": [],
   "source": [
    "sc = MinMaxScaler()\n",
    "features = sc.fit_transform(features)"
   ]
  },
  {
   "cell_type": "markdown",
   "id": "c5a7324e-7fed-41bf-bf8d-4f0aa63c99ed",
   "metadata": {},
   "source": [
    "## Building the SOM"
   ]
  },
  {
   "cell_type": "markdown",
   "id": "031febf1-093f-4f93-b766-fdb52a6fb51c",
   "metadata": {},
   "source": [
    "### Train the SOM\n",
    "\n",
    "The Minisom package allows us to create SOMs easily:\n",
    "\n",
    "-   (x, y) represent the dimensions of the map.\n",
    "-   input\\_len is the number of features in the data\n",
    "\n",
    "> A recommended map size is: 5 \\* sqrt(number of samples). If you have 150 samples, the map size is 64 or 8x8."
   ]
  },
  {
   "cell_type": "code",
   "execution_count": null,
   "id": "0c0ae3f9-e478-491c-8f50-f3a640de2d42",
   "metadata": {},
   "outputs": [],
   "source": [
    "# !pip install minisom\n",
    "from minisom import MiniSom"
   ]
  },
  {
   "cell_type": "code",
   "execution_count": null,
   "id": "73126c30-adc9-4185-a188-51f3c91375ba",
   "metadata": {},
   "outputs": [],
   "source": [
    "n_features = features.shape[1]\n",
    "n_samples = features.shape[0]"
   ]
  },
  {
   "cell_type": "markdown",
   "id": "fc6d85ee-cd3a-4fdb-b57c-fe163faa5d06",
   "metadata": {},
   "source": [
    "In these lines:\n",
    "\n",
    "-   **`n_features = features.shape[1]`**: This retrieves the number of features in the dataset by accessing the second dimension of the `features` array (assuming `features` is a two-dimensional array where rows represent samples and columns represent features).\n",
    "-   **`n_samples = features.shape[0]`**: This retrieves the number of samples (or data points) in the dataset by accessing the first dimension of the `features` array."
   ]
  },
  {
   "cell_type": "code",
   "execution_count": null,
   "id": "b957abcd-d94f-419e-8069-3b8d72cc786f",
   "metadata": {},
   "outputs": [],
   "source": [
    "map_size = 5 * math.sqrt(n_samples)\n",
    "map_height = map_width = math.ceil(math.sqrt(map_size))"
   ]
  },
  {
   "cell_type": "markdown",
   "id": "42a73a26-c623-402c-8eeb-b993d71fd546",
   "metadata": {},
   "source": [
    "-   **`map_size = 5 * math.sqrt(n_samples)`**: This line calculates an initial size for the SOM. It scales the size of the map relative to the square root of the number of samples, multiplied by 5. This heuristic helps to determine an appropriate size of the map that can effectively model the data complexity and density.\n",
    "-   **`map_height = map_width = math.ceil(math.sqrt(map_size))`**: This line sets both the height and width of the SOM to be the ceiling value of the square root of `map_size`. The use of `math.ceil` ensures that the map dimensions are whole numbers. Making the map height and width equal suggests a square grid for the SOM, which is common in many applications."
   ]
  },
  {
   "cell_type": "code",
   "execution_count": null,
   "id": "50aee80c-84cc-4e12-9a70-a673f8fe7fae",
   "metadata": {},
   "outputs": [],
   "source": [
    "print(f'(map_height, map_width) = ({map_height}, {map_width})')\n",
    "print(f'Number of features: {n_features}')"
   ]
  },
  {
   "cell_type": "code",
   "execution_count": null,
   "id": "7e9442ca-6a95-42c0-a043-21116325416c",
   "metadata": {},
   "outputs": [],
   "source": [
    "som = MiniSom(x=map_height, y=map_width, input_len=n_features, sigma=1.5, learning_rate=0.5, neighborhood_function='gaussian', random_seed=1)"
   ]
  },
  {
   "cell_type": "markdown",
   "id": "841b27af-18ee-4069-a1ad-8e4c2f784010",
   "metadata": {},
   "source": [
    "In this line, an instance of the **Self-Organizing Map** (SOM) is created using the `MiniSom` library. The parameters are defined as follows:\n",
    "\n",
    "-   **`x=map_height`**: Sets the height of the SOM grid. This defines the number of neurons along one dimension of the map.\n",
    "-   **`y=map_width`**: Sets the width of the SOM grid. This defines the number of neurons along the other dimension of the map.\n",
    "-   **`input_len=n_features`**: Specifies the number of features in the input dataset. Each neuron's weight vector will have this dimensionality.\n",
    "-   **`sigma=1.5`**: Determines the radius of the neighborhood function in the SOM. It influences how many neurons around the Best Matching Unit (BMU) will be updated during each training iteration.\n",
    "-   **`learning_rate=0.5`**: Controls the learning rate of the SOM. It affects how much the neuron weights are adjusted during each training step.\n",
    "-   **`neighborhood_function='gaussian'`**: Indicates the type of neighborhood function to use when updating neuron weights. 'Gaussian' is a common choice that weights the influence of the BMU on neighboring neurons based on their distance from the BMU.\n",
    "-   **`random_seed=1`**: Sets the seed for random number generation, ensuring reproducibility of the results."
   ]
  },
  {
   "cell_type": "code",
   "execution_count": null,
   "id": "90a7d477-06fc-41ae-9013-92a7c801d4e8",
   "metadata": {},
   "outputs": [],
   "source": [
    "som.pca_weights_init(features)"
   ]
  },
  {
   "cell_type": "markdown",
   "id": "dfd726bc-1743-4b72-b643-39fd11997331",
   "metadata": {},
   "source": [
    "This line initializes the weights of the SOM using __Principal Component Analysis (PCA)__. This method sets the initial weights to mirror the principal components of the data, which can lead to faster and more stable convergence in some cases."
   ]
  },
  {
   "cell_type": "code",
   "execution_count": null,
   "id": "17fce4da-c9e2-412a-816a-3c3dd39c39c2",
   "metadata": {},
   "outputs": [],
   "source": [
    "som.train(data=features, num_iteration=1000, verbose=True)"
   ]
  },
  {
   "cell_type": "markdown",
   "id": "84ae0836-049c-4f8b-ad2f-a269a1b690ba",
   "metadata": {},
   "source": [
    "-   **`data=features`**: The dataset used to train the SOM. Each element of the dataset should be a vector of length `n_features`.\n",
    "-   **`num_iteration=1000`**: The total number of iterations for which the SOM will be trained.\n",
    "-   **`verbose=True`**: When set to `True`, the training process will print out log messages about the progress, which is helpful for tracking the training process.\n",
    "-   **`quantization error`**: This is a measure of the average distance between each data point and its __Best Matching Unit (BMU)__ in the SOM. The quantization error is a key metric used to evaluate the performance of the SOM. It reflects __how well the SOM has learned to represent the dataset__."
   ]
  },
  {
   "cell_type": "markdown",
   "id": "bb993229-1dd0-4900-a17b-3c2151cb9736",
   "metadata": {},
   "source": [
    "## Visualzing the results\n",
    "We can cleary dsitinguish the clusters:\n",
    "* __Setosa__: red circles\n",
    "* __Versicolor__:  green squares\n",
    "* __Virginica__: blue triangles "
   ]
  },
  {
   "cell_type": "code",
   "execution_count": null,
   "id": "2183b7af-d5a3-4deb-8609-c41440304714",
   "metadata": {},
   "outputs": [],
   "source": [
    "print(iris.target_names)"
   ]
  },
  {
   "cell_type": "code",
   "execution_count": null,
   "id": "e11b3a1f-5873-49d0-97c5-294fb8e58c74",
   "metadata": {
    "tags": []
   },
   "outputs": [],
   "source": [
    "plt.figure(figsize=(6, 4))\n",
    "\n",
    "# plot U-matrix\n",
    "u_matrix = som.distance_map().T\n",
    "plt.pcolor(u_matrix, cmap='bone_r')\n",
    "plt.colorbar()\n",
    "\n",
    "# plot markers\n",
    "markers = ['o', 's', '^']   # 'setosa', 'versicolor' 'virginica'\n",
    "colors = ['r', 'g', 'b']\n",
    "for feature, label in zip(features, labels):\n",
    "    w = som.winner(feature)\n",
    "    plt.plot(w[0] + 0.5, w[1] + 0.5, \n",
    "        markers[label], markeredgecolor = colors[label], \n",
    "        markerfacecolor = 'None', markersize = 10, markeredgewidth = 1)\n",
    "\n",
    "plt.show()"
   ]
  },
  {
   "cell_type": "markdown",
   "id": "073a892e-4774-4d02-aa8d-3356865ce7cd",
   "metadata": {},
   "source": [
    "## Plotting the clusters\n",
    "On our __distance map__, the __light shades__ represent the __cluster centrois__ whereas the __dark ones__ represents the __division of the clusters__. \n",
    "\n",
    "However, some people plot their distance map the other way where dark shades represents clusters."
   ]
  },
  {
   "cell_type": "code",
   "execution_count": null,
   "id": "88ddc8bc-49a6-4f00-876d-169256c136eb",
   "metadata": {},
   "outputs": [],
   "source": [
    "def plot_distance_map(ax, fig):\n",
    "    \"\"\"Plot the distance map\"\"\"\n",
    "    p = ax.pcolor(som.distance_map().T, cmap='bone_r') # cmap='Blues'\n",
    "    # ax.colorbar()\n",
    "    fig.colorbar(p, ax=ax)"
   ]
  },
  {
   "cell_type": "code",
   "execution_count": null,
   "id": "d1fd2012-a75c-4803-b533-85162b3d0ad9",
   "metadata": {},
   "outputs": [],
   "source": [
    "def plot_clusters_scatter(ax):\n",
    "    \"\"\"\n",
    "    Create a scatter plot of the winning neurons. \n",
    "    Each neuron is assigned the color of the cluster it belongs to.\n",
    "    \"\"\" \n",
    "    # Get the winning neuron coordinates for each sample \n",
    "    # The coordinates are transformed into an array for the scatter plot: (1,1) => [1,1]\n",
    "    winning_neurons = np.array([som.winner(x) for x in features])\n",
    "\n",
    "    # Add a random offset to avoid overlaps between points within the same cell\n",
    "    offset = np.random.uniform(low=-0.4, high=0.4, size=(len(features), 2))\n",
    "    winning_neurons = winning_neurons + offset\n",
    "\n",
    "    # Define the colors based on the labels\n",
    "    colors = ['#ff0400', 'g', '#e88325']\n",
    "    label_colors = [colors[label] for label in labels]\n",
    "\n",
    "    # Create the scatter plot\n",
    "    # 1st column represent x and second, y coordinate\n",
    "    ax.scatter(winning_neurons[:,0], winning_neurons[:,1], s=10, c=label_colors)"
   ]
  },
  {
   "cell_type": "code",
   "execution_count": null,
   "id": "f33d5a33-e6c9-4bc8-9736-964c539a7eeb",
   "metadata": {},
   "outputs": [],
   "source": [
    "def plot_clusters_markers(ax):\n",
    "    \"\"\"\n",
    "    Plot the winning neurons as markers.\n",
    "    Each marker is assigned the color of the cluster ir belongs to.\n",
    "    \"\"\"\n",
    "    markers = ['o', 's', '^']\n",
    "    colors = ['#ff0400', 'g', '#e88325']\n",
    "    for i, feature in enumerate(features):\n",
    "        w = som.winner(feature)\n",
    "        ax.plot(w[0] + 0.5, w[1] + 0.5, \n",
    "            markers[labels[i]], markeredgecolor = colors[labels[i]], \n",
    "            markerfacecolor = 'None', markersize = 10, markeredgewidth = 1)\n",
    "        \n",
    "    # legend\n",
    "    ax.legend(handles=[plt.Line2D([], [], color='#ff0400', marker='o', linestyle='None', label='Setosa'),\n",
    "                    plt.Line2D([], [], color='green', marker='s', linestyle='None', label='Versicolor'),\n",
    "                    plt.Line2D([], [], color='#e88325', marker='^', linestyle='None', label='Virginica')],\n",
    "                    bbox_to_anchor=(1.5, 1.03))"
   ]
  },
  {
   "cell_type": "code",
   "execution_count": null,
   "id": "05ca2906-f0d9-4739-a95c-aa3a1abb4667",
   "metadata": {},
   "outputs": [],
   "source": [
    "fig, axes = plt.subplots(1, 3, figsize=(12, 4))\n",
    "\n",
    "plot_distance_map(axes[0], fig)\n",
    "plot_clusters_scatter(axes[1])\n",
    "plot_clusters_markers(axes[2])\n",
    "\n",
    "plt.suptitle(\"Plants species clusters\")\n",
    "plt.show()"
   ]
  },
  {
   "cell_type": "markdown",
   "id": "aa0dde4c-e6e6-4400-ae7d-8b0f33ddcc85",
   "metadata": {},
   "source": [
    "## Example 2 - Color clustering"
   ]
  },
  {
   "cell_type": "markdown",
   "id": "94dc2062-e09c-4f98-af54-8e413850315d",
   "metadata": {},
   "source": [
    "Let's create a simple example where we use a SOM to cluster colors. We will generate some random colors, train a SOM, and then visualize how the SOM organizes these colors.\n",
    "\n",
    "#### Import Libraries\n",
    "\n",
    "We start by importing the necessary libraries."
   ]
  },
  {
   "cell_type": "code",
   "execution_count": null,
   "id": "1a94a5c5-f6df-4479-a9dc-0e7ccf0b1495",
   "metadata": {},
   "outputs": [],
   "source": [
    "import numpy as np\n",
    "import matplotlib.pyplot as plt\n",
    "from minisom import MiniSom"
   ]
  },
  {
   "cell_type": "markdown",
   "id": "f87ad850-15f2-4441-bbff-b230af370645",
   "metadata": {},
   "source": [
    "#### Generate Random Colors\n",
    "\n",
    "We will generate a dataset of random colors. Each color is represented as a three-dimensional vector (RGB) where each component is between 0 and 1.\n",
    "\n"
   ]
  },
  {
   "cell_type": "code",
   "execution_count": null,
   "id": "28926a50-4689-4a2a-b64a-4251b606855a",
   "metadata": {},
   "outputs": [],
   "source": [
    "# Generate random colors\n",
    "colors = np.random.rand(100, 3)  # 100 random colors"
   ]
  },
  {
   "cell_type": "markdown",
   "id": "963d36c6-3300-47e6-a8bd-0fe9a97a5fa3",
   "metadata": {},
   "source": [
    "#### Initialize and Train the SOM\n",
    "\n",
    "We will create a SOM with a grid size that is appropriate for visualizing in a 2D space. Here, we'll use a $8*8$ grid -> $5 * \\sqrt(n\\_samples)$."
   ]
  },
  {
   "cell_type": "code",
   "execution_count": null,
   "id": "5f369cb3-150a-4712-8f70-e2cfe0dd7574",
   "metadata": {},
   "outputs": [],
   "source": [
    "map_size = 5 * math.sqrt(len(colors))\n",
    "map_height = map_width = math.ceil(math.sqrt(map_size))\n",
    "print(f'(map_height, map_width) = ({map_height}, {map_width})')\n",
    "print(f'Number of features: {colors.shape[1]}')"
   ]
  },
  {
   "cell_type": "code",
   "execution_count": null,
   "id": "946fc866-eee2-43a9-bdc0-ab929019cfff",
   "metadata": {},
   "outputs": [],
   "source": [
    "# SOM initialization and training\n",
    "\n",
    "som_cc = MiniSom(map_width, map_height, 3, sigma=1.5, learning_rate=0.5, neighborhood_function='gaussian', random_seed=1)  # 8x8 grid, input size=3 (RGB)\n",
    "som_cc.random_weights_init(colors)\n",
    "\n",
    "n_interations_cc = 1000 # train with 1000 iterations\n",
    "quantization_errors_cc = []\n",
    "for i in range(n_interations_cc):\n",
    "    som_cc.train_random(colors, i+1)  # Train with 1 iteration at a time\n",
    "    quantization_errors_cc.append(som_cc.quantization_error(colors))"
   ]
  },
  {
   "cell_type": "markdown",
   "id": "72579b79-90e1-4b86-835d-3fbdc5ceb9c9",
   "metadata": {},
   "source": [
    "### Quantization error over time"
   ]
  },
  {
   "cell_type": "code",
   "execution_count": null,
   "id": "f84ba23e-fdf4-4649-9fee-ee5b53883e08",
   "metadata": {},
   "outputs": [],
   "source": [
    "# Plot quantization error over iterations\n",
    "plt.figure(figsize=(10, 5))\n",
    "plt.plot(quantization_errors_cc)\n",
    "plt.title('Quantization Error Over Iterations')\n",
    "plt.xlabel('Iteration')\n",
    "plt.ylabel('Quantization Error')\n",
    "plt.grid(True)\n",
    "plt.show()"
   ]
  },
  {
   "cell_type": "markdown",
   "id": "51fb1a0a-03ea-4d9b-841d-7da2985d918b",
   "metadata": {},
   "source": [
    "#### Visualize the Results\n",
    "\n",
    "Finally, we'll visualize the results. We'll plot the SOM's grid, where each node's color corresponds to the neuron's weight (which represents a color).\n",
    "\n",
    "This visualization shows how the SOM has organized similar colors together, creating a sort of \"map\" of colors. It's a powerful way to see the capability of SOMs in organizing unlabelled data in a meaningful way."
   ]
  },
  {
   "cell_type": "code",
   "execution_count": null,
   "id": "518246a9-30aa-4ad3-b094-8044af014a7e",
   "metadata": {},
   "outputs": [],
   "source": [
    "# Plotting the colors\n",
    "plt.figure(figsize=(7, 7))\n",
    "plt.title('Color clustering using SOM')\n",
    "for x in range(map_width):\n",
    "    for y in range(map_height):\n",
    "        w = som_cc.get_weights()[x, y]\n",
    "        plt.plot(x+0.5, y+0.5, 'o', markerfacecolor=tuple(w), markeredgecolor='k', markersize=10)\n",
    "\n",
    "# Decoration settings\n",
    "plt.xlim([0, map_width])\n",
    "plt.ylim([0, map_height])\n",
    "plt.show()"
   ]
  },
  {
   "cell_type": "markdown",
   "id": "84468eba-aeb7-4146-99e6-7b3ee64aa335",
   "metadata": {},
   "source": [
    "## Example 3 - Movie Recommendation System (Synthetic)"
   ]
  },
  {
   "cell_type": "markdown",
   "id": "4937cac7-9002-4156-89b7-c9ddbc6cb84d",
   "metadata": {},
   "source": [
    "#### Generate Movie Data"
   ]
  },
  {
   "cell_type": "code",
   "execution_count": null,
   "id": "fab00b35-4e2f-4fc3-ac9d-29a52cb7aa63",
   "metadata": {},
   "outputs": [],
   "source": [
    "from sklearn.datasets import make_blobs\n",
    "\n",
    "# Generate three clusters of movie data representing three genres\n",
    "num_movies = 50\n",
    "\n",
    "movie_titles = [\n",
    "    \"Space Adventure\", \"The Comedian\", \"Drama Queen\", \"Lonesome Hero\", \"Action Packed\",\n",
    "    \"Laugh Out Loud\", \"Tears and Smiles\", \"Fast and Curious\", \"Mystery Shack\", \"Last Stand\",\n",
    "    \"Silent Guardian\", \"Funny Bones\", \"Crying Out Loud\", \"Explosions Galore\", \"Rolling in Laughs\",\n",
    "    \"Serious Business\", \"Joy Ride\", \"Thrill Seeker\", \"Quiet Desperation\", \"Blaze of Glory\",\n",
    "    \"Comic Stand\", \"Dramatic Entrance\", \"Sudden Impact\", \"Laughing Stock\", \"Hero’s Journey\",\n",
    "    \"Roaring Laughter\", \"Cry Me a River\", \"Punch Drunk\", \"Mystery Machine\", \"Standoff\",\n",
    "    \"Hidden Agenda\", \"Serious Laughter\", \"River of Tears\", \"Thunderous Applause\", \"Giggle Fest\",\n",
    "    \"Tragic Turn\", \"Joyful Noise\", \"Impact Zone\", \"Moment of Silence\", \"Epic Saga\",\n",
    "    \"Belly Laughs\", \"Drama Club\", \"Action Hero\", \"Comedy Night\", \"Dramatic Pause\",\n",
    "    \"Race Against Time\", \"Comic Relief\", \"Plot Twist\", \"Last Laugh\", \"Final Act\"\n",
    "]\n",
    "\n",
    "genres = ['Action', 'Comedy', 'Drama']\n",
    "centers = [[1, 1], [6, 1], [3, 6]]  # These can be thought of as genre centroids\n",
    "cluster_std = [0.8, 0.5, 1]\n",
    "\n",
    "movies, genre_indices = make_blobs(n_samples=num_movies, centers=centers, cluster_std=cluster_std, random_state=1)"
   ]
  },
  {
   "cell_type": "code",
   "execution_count": null,
   "id": "026b49db-b5ee-4802-b39e-30499c8635e7",
   "metadata": {},
   "outputs": [],
   "source": [
    "# Assuming genres corresponds to the indices for labels\n",
    "movie_genres = np.array([genres[i] for i in genre_indices])\n",
    "\n",
    "# Simulate user ratings (assuming 5 users)\n",
    "num_users = 5\n",
    "ratings = np.zeros((num_users, num_movies))\n",
    "\n",
    "# Users have a preferred genre, more likely to rate those movies higher\n",
    "user_pref_genres = np.random.choice(genres, num_users)\n",
    "\n",
    "for user_idx in range(num_users):\n",
    "    for movie_idx in range(num_movies):\n",
    "        # Bias the ratings towards user's preferred genre\n",
    "        bias = 1.0 if movie_genres[movie_idx] == user_pref_genres[user_idx] else 0.3\n",
    "        ratings[user_idx, movie_idx] = np.random.rand() * bias\n",
    "\n",
    "# Normalize ratings for combination with movie features\n",
    "normalized_ratings = np.mean(ratings, axis=0).reshape(-1, 1) / np.max(np.mean(ratings, axis=0))\n",
    "\n",
    "# Combine movie features and normalized ratings into a single feature array\n",
    "features = np.hstack((movies, normalized_ratings))"
   ]
  },
  {
   "cell_type": "markdown",
   "id": "b74babe6-f0a7-4de5-87b9-4eaabd71cf3e",
   "metadata": {},
   "source": [
    "#### Initialize and Train the SOM"
   ]
  },
  {
   "cell_type": "code",
   "execution_count": null,
   "id": "70a8da28-678c-4ac2-a86f-fcc37d70df1d",
   "metadata": {},
   "outputs": [],
   "source": [
    "map_size = 5 * math.sqrt(num_movies)\n",
    "map_height = map_width = math.ceil(math.sqrt(map_size))\n",
    "print(f'(map_height, map_width) = ({map_height}, {map_width})')\n",
    "print(f'Number of features: {features[0].shape[0]}')"
   ]
  },
  {
   "cell_type": "code",
   "execution_count": null,
   "id": "46d1d658-062e-4273-9cdd-a238541cd277",
   "metadata": {},
   "outputs": [],
   "source": [
    "# Initialize and train the SOM\n",
    "som_mr = MiniSom(map_width, map_height, 3, sigma=0.5, learning_rate=0.5, random_seed=1)\n",
    "som_mr.random_weights_init(features)\n",
    "\n",
    "n_interations_mr = 1000 # train with 1000 iterations\n",
    "quantization_errors_mr = []\n",
    "for i in range(n_interations_mr):\n",
    "    som_mr.train_random(features, i+1)  # Train with 1 iteration at a time\n",
    "    quantization_errors_mr.append(som_mr.quantization_error(features))"
   ]
  },
  {
   "cell_type": "code",
   "execution_count": null,
   "id": "a9f509e3-8f97-4da9-9391-d82e5247f0a3",
   "metadata": {},
   "outputs": [],
   "source": [
    "# Plot quantization error over iterations\n",
    "plt.figure(figsize=(10, 5))\n",
    "plt.plot(quantization_errors_mr)\n",
    "plt.title('Quantization Error Over Iterations')\n",
    "plt.xlabel('Iteration')\n",
    "plt.ylabel('Quantization Error')\n",
    "plt.grid(True)\n",
    "plt.show()"
   ]
  },
  {
   "cell_type": "markdown",
   "id": "87041930-3258-4037-ab5c-8285ee141e9e",
   "metadata": {},
   "source": [
    "#### Visualize the Movie Clusters"
   ]
  },
  {
   "cell_type": "code",
   "execution_count": null,
   "id": "05cfbf31-a6e0-496e-a671-24db885aa3b6",
   "metadata": {},
   "outputs": [],
   "source": [
    "from matplotlib.lines import Line2D\n",
    "\n",
    "# Plotting\n",
    "plt.figure(figsize=(8, 6))\n",
    "plt.title('Movie Clusters based on Genres and Ratings')\n",
    "\n",
    "# Define colors for each genre\n",
    "colors = ['red', 'green', 'blue']\n",
    "genre_labels = ['Action', 'Comedy', 'Drama']  # Labels corresponding to the genres\n",
    "\n",
    "# Map genre indices to color\n",
    "color_map = {genres.index(genre): colors[i] for i, genre in enumerate(genre_labels)}\n",
    "\n",
    "# Plot all movies on the map according to their BMU (Best Matching Unit)\n",
    "for cnt, feature in enumerate(features):\n",
    "    bmu = som_mr.winner(feature)  # Find the best matching unit for each movie\n",
    "    genre_index = genre_indices[cnt]  # Use genre_indices from the blob generation\n",
    "    color = color_map[genre_index]  # Use the color map\n",
    "    plt.plot(bmu[0] + 0.5, bmu[1] + 0.5, 'o', markerfacecolor=color, markeredgecolor='k', markersize=18)\n",
    "\n",
    "# Mark nodes in the SOM\n",
    "for x in range(som_mr.get_weights().shape[0]):\n",
    "    for y in range(som_mr.get_weights().shape[1]):\n",
    "        plt.text(x + 0.5, y + 0.5, 'x', color='k', ha='center', va='center', fontweight='bold')\n",
    "\n",
    "# Adding custom legend entries\n",
    "legend_elements = [Line2D([0], [0], marker='o', color='w', label=genre, markerfacecolor=color_map[genres.index(genre)], markersize=10) for genre in genre_labels]\n",
    "plt.legend(handles=legend_elements, bbox_to_anchor=(1, 1.02))\n",
    "\n",
    "plt.xlim([0, som_mr.get_weights().shape[0]])\n",
    "plt.ylim([0, som_mr.get_weights().shape[1]])\n",
    "plt.xticks([])\n",
    "plt.yticks([])\n",
    "plt.grid(False)\n",
    "plt.show()"
   ]
  },
  {
   "cell_type": "markdown",
   "id": "90eb98e9-e245-4795-a7e0-7f984a0124da",
   "metadata": {},
   "source": [
    "#### Recommender Function\n",
    "\n",
    "Define a function to recommend movies based on user preferences."
   ]
  },
  {
   "cell_type": "code",
   "execution_count": null,
   "id": "305bb874-afd2-4083-a2ee-8b48d0d2cb14",
   "metadata": {},
   "outputs": [],
   "source": [
    "def recommend_movies(user_ratings, som, features, movie_titles, threshold=0.5):\n",
    "    # Calculate user preference vector by averaging movies they rate highly\n",
    "    preferred_movies = user_ratings > threshold  # Movies above threshold\n",
    "    if np.any(preferred_movies):\n",
    "        user_profile = np.average(features[preferred_movies, :], axis=0, weights=user_ratings[preferred_movies])\n",
    "    else:\n",
    "        user_profile = np.average(features, axis=0)  # Fallback to overall average if no preferred movies\n",
    "\n",
    "    # Find the best matching unit for the user profile\n",
    "    winner = som.winner(user_profile)\n",
    "\n",
    "    # Find titles of movies in the same node\n",
    "    recommended_titles = [movie_titles[i] for i in range(len(features)) if som.winner(features[i]) == winner]\n",
    "\n",
    "    return recommended_titles\n",
    "\n",
    "# Example usage\n",
    "user_ratings = ratings[0]  # Assume we're recommending for the first user\n",
    "recommended_titles = recommend_movies(user_ratings, som_mr, features, movie_titles)\n",
    "print(\"Recommended Movie Titles:\", recommended_titles)"
   ]
  },
  {
   "cell_type": "code",
   "execution_count": null,
   "id": "9dd89277-0897-4fc2-866e-0470d2678abb",
   "metadata": {},
   "outputs": [],
   "source": []
  }
 ],
 "metadata": {
  "kernelspec": {
   "display_name": "Python 3 (ipykernel)",
   "language": "python",
   "name": "python3"
  },
  "language_info": {
   "codemirror_mode": {
    "name": "ipython",
    "version": 3
   },
   "file_extension": ".py",
   "mimetype": "text/x-python",
   "name": "python",
   "nbconvert_exporter": "python",
   "pygments_lexer": "ipython3",
   "version": "3.11.7"
  }
 },
 "nbformat": 4,
 "nbformat_minor": 5
}
