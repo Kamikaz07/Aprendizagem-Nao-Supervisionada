{
 "cells": [
  {
   "cell_type": "markdown",
   "id": "5e4d92b1-d93d-4954-80a2-197eb8d17840",
   "metadata": {},
   "source": [
    "## Using UMAP with Python\n",
    "In Python, UMAP analysis and visualization can be performed using the ``UMAP()`` function from ``umap-learn`` package."
   ]
  },
  {
   "cell_type": "code",
   "execution_count": null,
   "id": "d1ee70a0-e156-49f4-9a05-2868c9af35e9",
   "metadata": {},
   "outputs": [],
   "source": [
    "#!pip install umap-learn"
   ]
  },
  {
   "cell_type": "markdown",
   "id": "833465d7-efa7-4d92-91b8-59c86adf097c",
   "metadata": {},
   "source": [
    "Here, we will use the example of scRNA-seq dataset for visualizing the hidden biological clusters using UMAP. The scRNA-seq dataset of __Arabidopsis thaliana__ root cells processed by 10x genomics.\n",
    "\n",
    "This scRNA-seq dataset contains **4406 cells** with **~75K sequence reads** per cells. \n",
    "\n",
    "This dataset is pre-processed we will only use 2000 highly variable genes (variables or features) for UMAP cluster visualization.\n",
    "\n",
    "Now, import the pre-processed scRNA-seq data as pandas DataFrame:"
   ]
  },
  {
   "cell_type": "code",
   "execution_count": null,
   "id": "1fca39b8-b80e-4f74-b030-ca16de78986d",
   "metadata": {},
   "outputs": [],
   "source": [
    "import pandas as pd\n",
    "\n",
    "df = pd.read_csv(\"ath_sc_expression.csv\")\n",
    "df.head()"
   ]
  },
  {
   "cell_type": "code",
   "execution_count": null,
   "id": "2bfe30e7-d670-4a46-83b5-2cf780fdec29",
   "metadata": {},
   "outputs": [],
   "source": [
    "\n",
    "# set first column as index\n",
    "df = df.set_index('cells')\n",
    "\n",
    "# check the dimension (rows, columns)\n",
    "df.shape"
   ]
  },
  {
   "cell_type": "markdown",
   "id": "af63fb9b-9cb7-4561-962a-4c4a6770b1e1",
   "metadata": {},
   "source": [
    "This scRNA-seq dataset consists of 4406 cells and 2000 genes. This high-dimensional data (2000 gene features) could not be visualized using a scatter plot.\n",
    "\n",
    "Hence, we will use the UMAP() function to reduce the high-dimensional data (2000 features) to 2-dimensional data. By default, UMAP reduces the high-dimensional data to 2-dimension.\n",
    "\n",
    "**Note**: As UMAP is a stochastic algorithm, it may produce slightly different results if run multiple times. To reproduce similar results, you can use the ``random_state`` parameter in ``UMAP()`` function."
   ]
  },
  {
   "cell_type": "code",
   "execution_count": null,
   "id": "d8102c3e-5622-45b5-b2ea-8a8b4de6e733",
   "metadata": {},
   "outputs": [],
   "source": [
    "import umap\n",
    "\n",
    "embedding = umap.UMAP(random_state=42).fit_transform(df.values)\n",
    "embedding.shape"
   ]
  },
  {
   "cell_type": "markdown",
   "id": "8988b2bc-006a-4a9f-9e94-33d3713fca9e",
   "metadata": {},
   "source": [
    "The resulting embedding has 2-dimensions (instead of 2000) and 4406 samples (cells). \n",
    "\n",
    "Each observation (row) of the reduced data (embedding) represents the corresponding high-dimensional data.\n",
    "\n",
    "Now, visualize the UMAP clusters as a scatter plot:"
   ]
  },
  {
   "cell_type": "code",
   "execution_count": null,
   "id": "9900e24f-26b2-45f1-8327-d59500af7d75",
   "metadata": {},
   "outputs": [],
   "source": [
    "import matplotlib.pyplot as plt\n",
    "\n",
    "plt.scatter(embedding[:, 0], embedding[:, 1])\n",
    "plt.title('UMAP Dimensionality Reduction', fontsize=12)\n",
    "plt.xlabel('UMAP1')\n",
    "plt.ylabel('UMAP2')\n",
    "plt.show()"
   ]
  },
  {
   "cell_type": "markdown",
   "id": "f022b3bc-67b0-4dc3-a7fb-9f616ac39a23",
   "metadata": {},
   "source": [
    "The above scatter plot suggests that the UMAP method was able to identify the structure of the high-dimensional data in low-dimensional space."
   ]
  },
  {
   "cell_type": "markdown",
   "id": "fc5ab526-d933-4dcc-a2b8-960a8abc91df",
   "metadata": {},
   "source": [
    "### Exercise: Can you now test it against previous example in Churn Dataset? :)"
   ]
  }
 ],
 "metadata": {
  "kernelspec": {
   "display_name": "Python 3 (ipykernel)",
   "language": "python",
   "name": "python3"
  },
  "language_info": {
   "codemirror_mode": {
    "name": "ipython",
    "version": 3
   },
   "file_extension": ".py",
   "mimetype": "text/x-python",
   "name": "python",
   "nbconvert_exporter": "python",
   "pygments_lexer": "ipython3",
   "version": "3.11.5"
  }
 },
 "nbformat": 4,
 "nbformat_minor": 5
}
